{
 "cells": [
  {
   "cell_type": "code",
   "execution_count": 1,
   "metadata": {},
   "outputs": [],
   "source": [
    "import json\n",
    "import requests\n",
    "import pandas as pd\n",
    "import os"
   ]
  },
  {
   "cell_type": "code",
   "execution_count": 2,
   "metadata": {},
   "outputs": [
    {
     "name": "stdout",
     "output_type": "stream",
     "text": [
      "Loaded token d06\n"
     ]
    }
   ],
   "source": [
    "githubToken = os.getenv('GITHUB_TOKEN')\n",
    "\n",
    "print(\"Loaded token {}\".format(githubToken[0:3]))"
   ]
  },
  {
   "cell_type": "code",
   "execution_count": 3,
   "metadata": {},
   "outputs": [],
   "source": [
    "def getAuth(url, headers={\"Authorization\":\"token {}\".format(githubToken)}):\n",
    "    baseUrl = \"https://api.github.com{}\".format(url)\n",
    "    print(\"Asking {}\".format(baseUrl))\n",
    "    res = requests.get(baseUrl, headers=headers)\n",
    "    return res.json()"
   ]
  },
  {
   "cell_type": "code",
   "execution_count": 4,
   "metadata": {},
   "outputs": [
    {
     "name": "stdout",
     "output_type": "stream",
     "text": [
      "Asking https://api.github.com/repos/ironhack-labs/data-labs/commits?since=2019-10-09T16:00:00Z\n"
     ]
    },
    {
     "data": {
      "text/plain": [
       "0"
      ]
     },
     "execution_count": 4,
     "metadata": {},
     "output_type": "execute_result"
    }
   ],
   "source": [
    "commits = []\n",
    "i = 2\n",
    "\n",
    "data = [2]\n",
    "\n",
    "data = getAuth('/repos/ironhack-labs/data-labs/commits?since=2019-10-09T16:00:00Z')\n",
    "commits.append(data)\n",
    "\n",
    "while len(data) > 0:\n",
    "    nr = '?page=' + str(i)\n",
    "    data = getAuth('/repos/ironhack-labs/data-labs/commits?since=2019-10-09T16:00:00Z{}'.format(nr))\n",
    "    commits.append(data)\n",
    "    i += 1\n",
    "    \n",
    "commits2 = [y for x in commits for y in x]\n",
    "len(commits2)\n",
    "\n",
    "# There were no commits made in the past week therefore the list is empty."
   ]
  },
  {
   "cell_type": "code",
   "execution_count": null,
   "metadata": {},
   "outputs": [],
   "source": []
  }
 ],
 "metadata": {
  "kernelspec": {
   "display_name": "Python 3",
   "language": "python",
   "name": "python3"
  },
  "language_info": {
   "codemirror_mode": {
    "name": "ipython",
    "version": 3
   },
   "file_extension": ".py",
   "mimetype": "text/x-python",
   "name": "python",
   "nbconvert_exporter": "python",
   "pygments_lexer": "ipython3",
   "version": "3.7.3"
  }
 },
 "nbformat": 4,
 "nbformat_minor": 2
}
